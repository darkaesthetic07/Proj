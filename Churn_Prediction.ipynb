{
  "nbformat": 4,
  "nbformat_minor": 0,
  "metadata": {
    "colab": {
      "name": "Churn_Prediction.ipynb",
      "provenance": [],
      "collapsed_sections": [],
      "include_colab_link": true
    },
    "kernelspec": {
      "name": "python3",
      "display_name": "Python 3"
    }
  },
  "cells": [
    {
      "cell_type": "markdown",
      "metadata": {
        "id": "view-in-github",
        "colab_type": "text"
      },
      "source": [
        "<a href=\"https://colab.research.google.com/github/darkaesthetic07/ChurnPred/blob/main/Churn_Prediction.ipynb\" target=\"_parent\"><img src=\"https://colab.research.google.com/assets/colab-badge.svg\" alt=\"Open In Colab\"/></a>"
      ]
    },
    {
      "cell_type": "markdown",
      "metadata": {
        "id": "t3nMXtMLUKOj"
      },
      "source": [
        "The term **Churns** means, \"leaving the company\", the churn rate or rate of **attrition** or **customer churn** is the rate at which customers stop doing business with an entity, and hence forms an essential factor.\n",
        "If the churn rate is known before hand the company might take necessary action to prevent these losses."
      ]
    },
    {
      "cell_type": "markdown",
      "metadata": {
        "id": "heMVbsD-UCup"
      },
      "source": [
        "# Importing Libraries"
      ]
    },
    {
      "cell_type": "code",
      "metadata": {
        "id": "uCtWM9bOSkgT"
      },
      "source": [
        "import numpy as np\n",
        "import pandas as pd\n",
        "import matplotlib.pyplot as plt\n",
        "import seaborn as sn\n",
        "\n",
        "from sklearn.preprocessing import LabelEncoder\n",
        "from sklearn.compose import ColumnTransformer\n",
        "from sklearn.preprocessing import OneHotEncoder\n",
        "from sklearn.preprocessing import StandardScaler\n",
        "from sklearn.model_selection import train_test_split\n",
        "from sklearn.linear_model import LogisticRegression\n",
        "from sklearn.metrics import accuracy_score\n",
        "from sklearn.model_selection import StratifiedKFold\n",
        "from sklearn import model_selection\n",
        "from sklearn.ensemble import RandomForestClassifier"
      ],
      "execution_count": null,
      "outputs": []
    },
    {
      "cell_type": "code",
      "metadata": {
        "id": "BMCmFq70VOXE"
      },
      "source": [
        "!pip install -q sklearn"
      ],
      "execution_count": null,
      "outputs": []
    },
    {
      "cell_type": "markdown",
      "metadata": {
        "id": "FyAFylZ5V6by"
      },
      "source": [
        "# Loading the dataset\n",
        "\n",
        "We will load the required dataset, and try to visualize how each factor influences our target variable.\n",
        "Since our target variables are in the form of binary numbers i.e 0 or 1 so our problem lies in binary classification of our target variable."
      ]
    },
    {
      "cell_type": "code",
      "metadata": {
        "id": "jPr-8q4uVpPM"
      },
      "source": [
        "url = \"https://raw.githubusercontent.com/Biswa5812/Machine-Learning/master/Churn%20Prediction/churn_prediction.csv\"\n",
        "dataset = pd.read_csv(url)"
      ],
      "execution_count": null,
      "outputs": []
    },
    {
      "cell_type": "code",
      "metadata": {
        "id": "B4rmA8q4W5yL",
        "colab": {
          "base_uri": "https://localhost:8080/",
          "height": 223
        },
        "outputId": "b45f3ffd-8cab-4be0-f243-69f4c751e339"
      },
      "source": [
        "dataset.head()"
      ],
      "execution_count": null,
      "outputs": [
        {
          "output_type": "execute_result",
          "data": {
            "text/html": [
              "<div>\n",
              "<style scoped>\n",
              "    .dataframe tbody tr th:only-of-type {\n",
              "        vertical-align: middle;\n",
              "    }\n",
              "\n",
              "    .dataframe tbody tr th {\n",
              "        vertical-align: top;\n",
              "    }\n",
              "\n",
              "    .dataframe thead th {\n",
              "        text-align: right;\n",
              "    }\n",
              "</style>\n",
              "<table border=\"1\" class=\"dataframe\">\n",
              "  <thead>\n",
              "    <tr style=\"text-align: right;\">\n",
              "      <th></th>\n",
              "      <th>customer_id</th>\n",
              "      <th>vintage</th>\n",
              "      <th>age</th>\n",
              "      <th>gender</th>\n",
              "      <th>dependents</th>\n",
              "      <th>occupation</th>\n",
              "      <th>city</th>\n",
              "      <th>customer_nw_category</th>\n",
              "      <th>branch_code</th>\n",
              "      <th>days_since_last_transaction</th>\n",
              "      <th>current_balance</th>\n",
              "      <th>previous_month_end_balance</th>\n",
              "      <th>average_monthly_balance_prevQ</th>\n",
              "      <th>average_monthly_balance_prevQ2</th>\n",
              "      <th>current_month_credit</th>\n",
              "      <th>previous_month_credit</th>\n",
              "      <th>current_month_debit</th>\n",
              "      <th>previous_month_debit</th>\n",
              "      <th>current_month_balance</th>\n",
              "      <th>previous_month_balance</th>\n",
              "      <th>churn</th>\n",
              "    </tr>\n",
              "  </thead>\n",
              "  <tbody>\n",
              "    <tr>\n",
              "      <th>0</th>\n",
              "      <td>1</td>\n",
              "      <td>3135</td>\n",
              "      <td>66</td>\n",
              "      <td>Male</td>\n",
              "      <td>0.0</td>\n",
              "      <td>self_employed</td>\n",
              "      <td>187.0</td>\n",
              "      <td>2</td>\n",
              "      <td>755</td>\n",
              "      <td>224.0</td>\n",
              "      <td>1458.71</td>\n",
              "      <td>1458.71</td>\n",
              "      <td>1458.71</td>\n",
              "      <td>1449.07</td>\n",
              "      <td>0.20</td>\n",
              "      <td>0.20</td>\n",
              "      <td>0.20</td>\n",
              "      <td>0.20</td>\n",
              "      <td>1458.71</td>\n",
              "      <td>1458.71</td>\n",
              "      <td>0</td>\n",
              "    </tr>\n",
              "    <tr>\n",
              "      <th>1</th>\n",
              "      <td>2</td>\n",
              "      <td>310</td>\n",
              "      <td>35</td>\n",
              "      <td>Male</td>\n",
              "      <td>0.0</td>\n",
              "      <td>self_employed</td>\n",
              "      <td>NaN</td>\n",
              "      <td>2</td>\n",
              "      <td>3214</td>\n",
              "      <td>60.0</td>\n",
              "      <td>5390.37</td>\n",
              "      <td>8704.66</td>\n",
              "      <td>7799.26</td>\n",
              "      <td>12419.41</td>\n",
              "      <td>0.56</td>\n",
              "      <td>0.56</td>\n",
              "      <td>5486.27</td>\n",
              "      <td>100.56</td>\n",
              "      <td>6496.78</td>\n",
              "      <td>8787.61</td>\n",
              "      <td>0</td>\n",
              "    </tr>\n",
              "    <tr>\n",
              "      <th>2</th>\n",
              "      <td>4</td>\n",
              "      <td>2356</td>\n",
              "      <td>31</td>\n",
              "      <td>Male</td>\n",
              "      <td>0.0</td>\n",
              "      <td>salaried</td>\n",
              "      <td>146.0</td>\n",
              "      <td>2</td>\n",
              "      <td>41</td>\n",
              "      <td>NaN</td>\n",
              "      <td>3913.16</td>\n",
              "      <td>5815.29</td>\n",
              "      <td>4910.17</td>\n",
              "      <td>2815.94</td>\n",
              "      <td>0.61</td>\n",
              "      <td>0.61</td>\n",
              "      <td>6046.73</td>\n",
              "      <td>259.23</td>\n",
              "      <td>5006.28</td>\n",
              "      <td>5070.14</td>\n",
              "      <td>0</td>\n",
              "    </tr>\n",
              "    <tr>\n",
              "      <th>3</th>\n",
              "      <td>5</td>\n",
              "      <td>478</td>\n",
              "      <td>90</td>\n",
              "      <td>NaN</td>\n",
              "      <td>NaN</td>\n",
              "      <td>self_employed</td>\n",
              "      <td>1020.0</td>\n",
              "      <td>2</td>\n",
              "      <td>582</td>\n",
              "      <td>147.0</td>\n",
              "      <td>2291.91</td>\n",
              "      <td>2291.91</td>\n",
              "      <td>2084.54</td>\n",
              "      <td>1006.54</td>\n",
              "      <td>0.47</td>\n",
              "      <td>0.47</td>\n",
              "      <td>0.47</td>\n",
              "      <td>2143.33</td>\n",
              "      <td>2291.91</td>\n",
              "      <td>1669.79</td>\n",
              "      <td>1</td>\n",
              "    </tr>\n",
              "    <tr>\n",
              "      <th>4</th>\n",
              "      <td>6</td>\n",
              "      <td>2531</td>\n",
              "      <td>42</td>\n",
              "      <td>Male</td>\n",
              "      <td>2.0</td>\n",
              "      <td>self_employed</td>\n",
              "      <td>1494.0</td>\n",
              "      <td>3</td>\n",
              "      <td>388</td>\n",
              "      <td>58.0</td>\n",
              "      <td>927.72</td>\n",
              "      <td>1401.72</td>\n",
              "      <td>1643.31</td>\n",
              "      <td>1871.12</td>\n",
              "      <td>0.33</td>\n",
              "      <td>714.61</td>\n",
              "      <td>588.62</td>\n",
              "      <td>1538.06</td>\n",
              "      <td>1157.15</td>\n",
              "      <td>1677.16</td>\n",
              "      <td>1</td>\n",
              "    </tr>\n",
              "  </tbody>\n",
              "</table>\n",
              "</div>"
            ],
            "text/plain": [
              "   customer_id  vintage  ...  previous_month_balance churn\n",
              "0            1     3135  ...                 1458.71     0\n",
              "1            2      310  ...                 8787.61     0\n",
              "2            4     2356  ...                 5070.14     0\n",
              "3            5      478  ...                 1669.79     1\n",
              "4            6     2531  ...                 1677.16     1\n",
              "\n",
              "[5 rows x 21 columns]"
            ]
          },
          "metadata": {
            "tags": []
          },
          "execution_count": 4
        }
      ]
    },
    {
      "cell_type": "markdown",
      "metadata": {
        "id": "isF6kyEiW9Tg"
      },
      "source": [
        "dataset.tail()"
      ]
    },
    {
      "cell_type": "code",
      "metadata": {
        "id": "frOjLfkBXGrc",
        "colab": {
          "base_uri": "https://localhost:8080/",
          "height": 315
        },
        "outputId": "e6e0c44a-179b-482f-8107-4fab0aa9c009"
      },
      "source": [
        "dataset.describe()"
      ],
      "execution_count": null,
      "outputs": [
        {
          "output_type": "execute_result",
          "data": {
            "text/html": [
              "<div>\n",
              "<style scoped>\n",
              "    .dataframe tbody tr th:only-of-type {\n",
              "        vertical-align: middle;\n",
              "    }\n",
              "\n",
              "    .dataframe tbody tr th {\n",
              "        vertical-align: top;\n",
              "    }\n",
              "\n",
              "    .dataframe thead th {\n",
              "        text-align: right;\n",
              "    }\n",
              "</style>\n",
              "<table border=\"1\" class=\"dataframe\">\n",
              "  <thead>\n",
              "    <tr style=\"text-align: right;\">\n",
              "      <th></th>\n",
              "      <th>customer_id</th>\n",
              "      <th>vintage</th>\n",
              "      <th>age</th>\n",
              "      <th>dependents</th>\n",
              "      <th>city</th>\n",
              "      <th>customer_nw_category</th>\n",
              "      <th>branch_code</th>\n",
              "      <th>days_since_last_transaction</th>\n",
              "      <th>current_balance</th>\n",
              "      <th>previous_month_end_balance</th>\n",
              "      <th>average_monthly_balance_prevQ</th>\n",
              "      <th>average_monthly_balance_prevQ2</th>\n",
              "      <th>current_month_credit</th>\n",
              "      <th>previous_month_credit</th>\n",
              "      <th>current_month_debit</th>\n",
              "      <th>previous_month_debit</th>\n",
              "      <th>current_month_balance</th>\n",
              "      <th>previous_month_balance</th>\n",
              "      <th>churn</th>\n",
              "    </tr>\n",
              "  </thead>\n",
              "  <tbody>\n",
              "    <tr>\n",
              "      <th>count</th>\n",
              "      <td>28382.000000</td>\n",
              "      <td>28382.000000</td>\n",
              "      <td>28382.000000</td>\n",
              "      <td>25919.000000</td>\n",
              "      <td>27579.000000</td>\n",
              "      <td>28382.000000</td>\n",
              "      <td>28382.000000</td>\n",
              "      <td>25159.000000</td>\n",
              "      <td>2.838200e+04</td>\n",
              "      <td>2.838200e+04</td>\n",
              "      <td>2.838200e+04</td>\n",
              "      <td>2.838200e+04</td>\n",
              "      <td>2.838200e+04</td>\n",
              "      <td>2.838200e+04</td>\n",
              "      <td>2.838200e+04</td>\n",
              "      <td>2.838200e+04</td>\n",
              "      <td>2.838200e+04</td>\n",
              "      <td>2.838200e+04</td>\n",
              "      <td>28382.000000</td>\n",
              "    </tr>\n",
              "    <tr>\n",
              "      <th>mean</th>\n",
              "      <td>15143.508667</td>\n",
              "      <td>2364.336446</td>\n",
              "      <td>48.208336</td>\n",
              "      <td>0.347236</td>\n",
              "      <td>796.109576</td>\n",
              "      <td>2.225530</td>\n",
              "      <td>925.975019</td>\n",
              "      <td>69.997814</td>\n",
              "      <td>7.380552e+03</td>\n",
              "      <td>7.495771e+03</td>\n",
              "      <td>7.496780e+03</td>\n",
              "      <td>7.124209e+03</td>\n",
              "      <td>3.433252e+03</td>\n",
              "      <td>3.261694e+03</td>\n",
              "      <td>3.658745e+03</td>\n",
              "      <td>3.339761e+03</td>\n",
              "      <td>7.451133e+03</td>\n",
              "      <td>7.495177e+03</td>\n",
              "      <td>0.185329</td>\n",
              "    </tr>\n",
              "    <tr>\n",
              "      <th>std</th>\n",
              "      <td>8746.454456</td>\n",
              "      <td>1610.124506</td>\n",
              "      <td>17.807163</td>\n",
              "      <td>0.997661</td>\n",
              "      <td>432.872102</td>\n",
              "      <td>0.660443</td>\n",
              "      <td>937.799129</td>\n",
              "      <td>86.341098</td>\n",
              "      <td>4.259871e+04</td>\n",
              "      <td>4.252935e+04</td>\n",
              "      <td>4.172622e+04</td>\n",
              "      <td>4.457581e+04</td>\n",
              "      <td>7.707145e+04</td>\n",
              "      <td>2.968889e+04</td>\n",
              "      <td>5.198542e+04</td>\n",
              "      <td>2.430111e+04</td>\n",
              "      <td>4.203394e+04</td>\n",
              "      <td>4.243198e+04</td>\n",
              "      <td>0.388571</td>\n",
              "    </tr>\n",
              "    <tr>\n",
              "      <th>min</th>\n",
              "      <td>1.000000</td>\n",
              "      <td>180.000000</td>\n",
              "      <td>1.000000</td>\n",
              "      <td>0.000000</td>\n",
              "      <td>0.000000</td>\n",
              "      <td>1.000000</td>\n",
              "      <td>1.000000</td>\n",
              "      <td>0.000000</td>\n",
              "      <td>-5.503960e+03</td>\n",
              "      <td>-3.149570e+03</td>\n",
              "      <td>1.428690e+03</td>\n",
              "      <td>-1.650610e+04</td>\n",
              "      <td>1.000000e-02</td>\n",
              "      <td>1.000000e-02</td>\n",
              "      <td>1.000000e-02</td>\n",
              "      <td>1.000000e-02</td>\n",
              "      <td>-3.374180e+03</td>\n",
              "      <td>-5.171920e+03</td>\n",
              "      <td>0.000000</td>\n",
              "    </tr>\n",
              "    <tr>\n",
              "      <th>25%</th>\n",
              "      <td>7557.250000</td>\n",
              "      <td>1121.000000</td>\n",
              "      <td>36.000000</td>\n",
              "      <td>0.000000</td>\n",
              "      <td>409.000000</td>\n",
              "      <td>2.000000</td>\n",
              "      <td>176.000000</td>\n",
              "      <td>11.000000</td>\n",
              "      <td>1.784470e+03</td>\n",
              "      <td>1.906000e+03</td>\n",
              "      <td>2.180945e+03</td>\n",
              "      <td>1.832507e+03</td>\n",
              "      <td>3.100000e-01</td>\n",
              "      <td>3.300000e-01</td>\n",
              "      <td>4.100000e-01</td>\n",
              "      <td>4.100000e-01</td>\n",
              "      <td>1.996765e+03</td>\n",
              "      <td>2.074408e+03</td>\n",
              "      <td>0.000000</td>\n",
              "    </tr>\n",
              "    <tr>\n",
              "      <th>50%</th>\n",
              "      <td>15150.500000</td>\n",
              "      <td>2018.000000</td>\n",
              "      <td>46.000000</td>\n",
              "      <td>0.000000</td>\n",
              "      <td>834.000000</td>\n",
              "      <td>2.000000</td>\n",
              "      <td>572.000000</td>\n",
              "      <td>30.000000</td>\n",
              "      <td>3.281255e+03</td>\n",
              "      <td>3.379915e+03</td>\n",
              "      <td>3.542865e+03</td>\n",
              "      <td>3.359600e+03</td>\n",
              "      <td>6.100000e-01</td>\n",
              "      <td>6.300000e-01</td>\n",
              "      <td>9.193000e+01</td>\n",
              "      <td>1.099600e+02</td>\n",
              "      <td>3.447995e+03</td>\n",
              "      <td>3.465235e+03</td>\n",
              "      <td>0.000000</td>\n",
              "    </tr>\n",
              "    <tr>\n",
              "      <th>75%</th>\n",
              "      <td>22706.750000</td>\n",
              "      <td>3176.000000</td>\n",
              "      <td>60.000000</td>\n",
              "      <td>0.000000</td>\n",
              "      <td>1096.000000</td>\n",
              "      <td>3.000000</td>\n",
              "      <td>1440.000000</td>\n",
              "      <td>95.000000</td>\n",
              "      <td>6.635820e+03</td>\n",
              "      <td>6.656535e+03</td>\n",
              "      <td>6.666887e+03</td>\n",
              "      <td>6.517960e+03</td>\n",
              "      <td>7.072725e+02</td>\n",
              "      <td>7.492350e+02</td>\n",
              "      <td>1.360435e+03</td>\n",
              "      <td>1.357553e+03</td>\n",
              "      <td>6.667958e+03</td>\n",
              "      <td>6.654693e+03</td>\n",
              "      <td>0.000000</td>\n",
              "    </tr>\n",
              "    <tr>\n",
              "      <th>max</th>\n",
              "      <td>30301.000000</td>\n",
              "      <td>12899.000000</td>\n",
              "      <td>90.000000</td>\n",
              "      <td>52.000000</td>\n",
              "      <td>1649.000000</td>\n",
              "      <td>3.000000</td>\n",
              "      <td>4782.000000</td>\n",
              "      <td>365.000000</td>\n",
              "      <td>5.905904e+06</td>\n",
              "      <td>5.740439e+06</td>\n",
              "      <td>5.700290e+06</td>\n",
              "      <td>5.010170e+06</td>\n",
              "      <td>1.226985e+07</td>\n",
              "      <td>2.361808e+06</td>\n",
              "      <td>7.637857e+06</td>\n",
              "      <td>1.414168e+06</td>\n",
              "      <td>5.778185e+06</td>\n",
              "      <td>5.720144e+06</td>\n",
              "      <td>1.000000</td>\n",
              "    </tr>\n",
              "  </tbody>\n",
              "</table>\n",
              "</div>"
            ],
            "text/plain": [
              "        customer_id       vintage  ...  previous_month_balance         churn\n",
              "count  28382.000000  28382.000000  ...            2.838200e+04  28382.000000\n",
              "mean   15143.508667   2364.336446  ...            7.495177e+03      0.185329\n",
              "std     8746.454456   1610.124506  ...            4.243198e+04      0.388571\n",
              "min        1.000000    180.000000  ...           -5.171920e+03      0.000000\n",
              "25%     7557.250000   1121.000000  ...            2.074408e+03      0.000000\n",
              "50%    15150.500000   2018.000000  ...            3.465235e+03      0.000000\n",
              "75%    22706.750000   3176.000000  ...            6.654693e+03      0.000000\n",
              "max    30301.000000  12899.000000  ...            5.720144e+06      1.000000\n",
              "\n",
              "[8 rows x 19 columns]"
            ]
          },
          "metadata": {
            "tags": []
          },
          "execution_count": 5
        }
      ]
    },
    {
      "cell_type": "code",
      "metadata": {
        "id": "meDQTYB1gpCD",
        "colab": {
          "base_uri": "https://localhost:8080/"
        },
        "outputId": "299558ab-486b-4d59-8f24-8df7bb57118c"
      },
      "source": [
        "dataset.info()"
      ],
      "execution_count": null,
      "outputs": [
        {
          "output_type": "stream",
          "text": [
            "<class 'pandas.core.frame.DataFrame'>\n",
            "RangeIndex: 28382 entries, 0 to 28381\n",
            "Data columns (total 21 columns):\n",
            " #   Column                          Non-Null Count  Dtype  \n",
            "---  ------                          --------------  -----  \n",
            " 0   customer_id                     28382 non-null  int64  \n",
            " 1   vintage                         28382 non-null  int64  \n",
            " 2   age                             28382 non-null  int64  \n",
            " 3   gender                          27857 non-null  object \n",
            " 4   dependents                      25919 non-null  float64\n",
            " 5   occupation                      28302 non-null  object \n",
            " 6   city                            27579 non-null  float64\n",
            " 7   customer_nw_category            28382 non-null  int64  \n",
            " 8   branch_code                     28382 non-null  int64  \n",
            " 9   days_since_last_transaction     25159 non-null  float64\n",
            " 10  current_balance                 28382 non-null  float64\n",
            " 11  previous_month_end_balance      28382 non-null  float64\n",
            " 12  average_monthly_balance_prevQ   28382 non-null  float64\n",
            " 13  average_monthly_balance_prevQ2  28382 non-null  float64\n",
            " 14  current_month_credit            28382 non-null  float64\n",
            " 15  previous_month_credit           28382 non-null  float64\n",
            " 16  current_month_debit             28382 non-null  float64\n",
            " 17  previous_month_debit            28382 non-null  float64\n",
            " 18  current_month_balance           28382 non-null  float64\n",
            " 19  previous_month_balance          28382 non-null  float64\n",
            " 20  churn                           28382 non-null  int64  \n",
            "dtypes: float64(13), int64(6), object(2)\n",
            "memory usage: 4.5+ MB\n"
          ],
          "name": "stdout"
        }
      ]
    },
    {
      "cell_type": "code",
      "metadata": {
        "id": "r7saaKz6XOi7",
        "colab": {
          "base_uri": "https://localhost:8080/"
        },
        "outputId": "e53c406d-94cb-4a17-f76a-1013c9e07642"
      },
      "source": [
        "dataset.isnull().any()"
      ],
      "execution_count": null,
      "outputs": [
        {
          "output_type": "execute_result",
          "data": {
            "text/plain": [
              "customer_id                       False\n",
              "vintage                           False\n",
              "age                               False\n",
              "gender                             True\n",
              "dependents                         True\n",
              "occupation                         True\n",
              "city                               True\n",
              "customer_nw_category              False\n",
              "branch_code                       False\n",
              "days_since_last_transaction        True\n",
              "current_balance                   False\n",
              "previous_month_end_balance        False\n",
              "average_monthly_balance_prevQ     False\n",
              "average_monthly_balance_prevQ2    False\n",
              "current_month_credit              False\n",
              "previous_month_credit             False\n",
              "current_month_debit               False\n",
              "previous_month_debit              False\n",
              "current_month_balance             False\n",
              "previous_month_balance            False\n",
              "churn                             False\n",
              "dtype: bool"
            ]
          },
          "metadata": {
            "tags": []
          },
          "execution_count": 7
        }
      ]
    },
    {
      "cell_type": "code",
      "metadata": {
        "id": "so7BhPR5XkoS",
        "colab": {
          "base_uri": "https://localhost:8080/"
        },
        "outputId": "ca93fe09-0649-4a36-f687-ba02f928a9ac"
      },
      "source": [
        "dataset['gender'].value_counts() # we can transform this column to contain values 0 for male, and 1 for female."
      ],
      "execution_count": null,
      "outputs": [
        {
          "output_type": "execute_result",
          "data": {
            "text/plain": [
              "Male      16548\n",
              "Female    11309\n",
              "Name: gender, dtype: int64"
            ]
          },
          "metadata": {
            "tags": []
          },
          "execution_count": 8
        }
      ]
    },
    {
      "cell_type": "code",
      "metadata": {
        "id": "TynTytTuYP3e",
        "colab": {
          "base_uri": "https://localhost:8080/"
        },
        "outputId": "0d8a02ba-ee17-42bd-e9a7-bc73126c988a"
      },
      "source": [
        "dataset['occupation'].value_counts() # this column has 4 categorical variables"
      ],
      "execution_count": null,
      "outputs": [
        {
          "output_type": "execute_result",
          "data": {
            "text/plain": [
              "self_employed    17476\n",
              "salaried          6704\n",
              "student           2058\n",
              "retired           2024\n",
              "company             40\n",
              "Name: occupation, dtype: int64"
            ]
          },
          "metadata": {
            "tags": []
          },
          "execution_count": 9
        }
      ]
    },
    {
      "cell_type": "markdown",
      "metadata": {
        "id": "gXl6ceEnfZbk"
      },
      "source": [
        "# Label Encoding\n",
        "\n",
        "Since we have only two types of category in gender column, we will use LabelEncoder to encode these categories.\n",
        "- Also, since we have missing values in gender column we will try to fill theses missing places with mode of the column"
      ]
    },
    {
      "cell_type": "code",
      "metadata": {
        "id": "FGP3vrFmhpUP"
      },
      "source": [
        "dataset['gender'].fillna(dataset['gender'].mode()[0],inplace=True)"
      ],
      "execution_count": null,
      "outputs": []
    },
    {
      "cell_type": "code",
      "metadata": {
        "id": "EAeuYSw1iFEl",
        "colab": {
          "base_uri": "https://localhost:8080/",
          "height": 223
        },
        "outputId": "105cf2af-f4a7-4c21-a79a-b958d37d2287"
      },
      "source": [
        "dataset.head()"
      ],
      "execution_count": null,
      "outputs": [
        {
          "output_type": "execute_result",
          "data": {
            "text/html": [
              "<div>\n",
              "<style scoped>\n",
              "    .dataframe tbody tr th:only-of-type {\n",
              "        vertical-align: middle;\n",
              "    }\n",
              "\n",
              "    .dataframe tbody tr th {\n",
              "        vertical-align: top;\n",
              "    }\n",
              "\n",
              "    .dataframe thead th {\n",
              "        text-align: right;\n",
              "    }\n",
              "</style>\n",
              "<table border=\"1\" class=\"dataframe\">\n",
              "  <thead>\n",
              "    <tr style=\"text-align: right;\">\n",
              "      <th></th>\n",
              "      <th>customer_id</th>\n",
              "      <th>vintage</th>\n",
              "      <th>age</th>\n",
              "      <th>gender</th>\n",
              "      <th>dependents</th>\n",
              "      <th>occupation</th>\n",
              "      <th>city</th>\n",
              "      <th>customer_nw_category</th>\n",
              "      <th>branch_code</th>\n",
              "      <th>days_since_last_transaction</th>\n",
              "      <th>current_balance</th>\n",
              "      <th>previous_month_end_balance</th>\n",
              "      <th>average_monthly_balance_prevQ</th>\n",
              "      <th>average_monthly_balance_prevQ2</th>\n",
              "      <th>current_month_credit</th>\n",
              "      <th>previous_month_credit</th>\n",
              "      <th>current_month_debit</th>\n",
              "      <th>previous_month_debit</th>\n",
              "      <th>current_month_balance</th>\n",
              "      <th>previous_month_balance</th>\n",
              "      <th>churn</th>\n",
              "    </tr>\n",
              "  </thead>\n",
              "  <tbody>\n",
              "    <tr>\n",
              "      <th>0</th>\n",
              "      <td>1</td>\n",
              "      <td>3135</td>\n",
              "      <td>66</td>\n",
              "      <td>Male</td>\n",
              "      <td>0.0</td>\n",
              "      <td>self_employed</td>\n",
              "      <td>187.0</td>\n",
              "      <td>2</td>\n",
              "      <td>755</td>\n",
              "      <td>224.0</td>\n",
              "      <td>1458.71</td>\n",
              "      <td>1458.71</td>\n",
              "      <td>1458.71</td>\n",
              "      <td>1449.07</td>\n",
              "      <td>0.20</td>\n",
              "      <td>0.20</td>\n",
              "      <td>0.20</td>\n",
              "      <td>0.20</td>\n",
              "      <td>1458.71</td>\n",
              "      <td>1458.71</td>\n",
              "      <td>0</td>\n",
              "    </tr>\n",
              "    <tr>\n",
              "      <th>1</th>\n",
              "      <td>2</td>\n",
              "      <td>310</td>\n",
              "      <td>35</td>\n",
              "      <td>Male</td>\n",
              "      <td>0.0</td>\n",
              "      <td>self_employed</td>\n",
              "      <td>NaN</td>\n",
              "      <td>2</td>\n",
              "      <td>3214</td>\n",
              "      <td>60.0</td>\n",
              "      <td>5390.37</td>\n",
              "      <td>8704.66</td>\n",
              "      <td>7799.26</td>\n",
              "      <td>12419.41</td>\n",
              "      <td>0.56</td>\n",
              "      <td>0.56</td>\n",
              "      <td>5486.27</td>\n",
              "      <td>100.56</td>\n",
              "      <td>6496.78</td>\n",
              "      <td>8787.61</td>\n",
              "      <td>0</td>\n",
              "    </tr>\n",
              "    <tr>\n",
              "      <th>2</th>\n",
              "      <td>4</td>\n",
              "      <td>2356</td>\n",
              "      <td>31</td>\n",
              "      <td>Male</td>\n",
              "      <td>0.0</td>\n",
              "      <td>salaried</td>\n",
              "      <td>146.0</td>\n",
              "      <td>2</td>\n",
              "      <td>41</td>\n",
              "      <td>NaN</td>\n",
              "      <td>3913.16</td>\n",
              "      <td>5815.29</td>\n",
              "      <td>4910.17</td>\n",
              "      <td>2815.94</td>\n",
              "      <td>0.61</td>\n",
              "      <td>0.61</td>\n",
              "      <td>6046.73</td>\n",
              "      <td>259.23</td>\n",
              "      <td>5006.28</td>\n",
              "      <td>5070.14</td>\n",
              "      <td>0</td>\n",
              "    </tr>\n",
              "    <tr>\n",
              "      <th>3</th>\n",
              "      <td>5</td>\n",
              "      <td>478</td>\n",
              "      <td>90</td>\n",
              "      <td>Male</td>\n",
              "      <td>NaN</td>\n",
              "      <td>self_employed</td>\n",
              "      <td>1020.0</td>\n",
              "      <td>2</td>\n",
              "      <td>582</td>\n",
              "      <td>147.0</td>\n",
              "      <td>2291.91</td>\n",
              "      <td>2291.91</td>\n",
              "      <td>2084.54</td>\n",
              "      <td>1006.54</td>\n",
              "      <td>0.47</td>\n",
              "      <td>0.47</td>\n",
              "      <td>0.47</td>\n",
              "      <td>2143.33</td>\n",
              "      <td>2291.91</td>\n",
              "      <td>1669.79</td>\n",
              "      <td>1</td>\n",
              "    </tr>\n",
              "    <tr>\n",
              "      <th>4</th>\n",
              "      <td>6</td>\n",
              "      <td>2531</td>\n",
              "      <td>42</td>\n",
              "      <td>Male</td>\n",
              "      <td>2.0</td>\n",
              "      <td>self_employed</td>\n",
              "      <td>1494.0</td>\n",
              "      <td>3</td>\n",
              "      <td>388</td>\n",
              "      <td>58.0</td>\n",
              "      <td>927.72</td>\n",
              "      <td>1401.72</td>\n",
              "      <td>1643.31</td>\n",
              "      <td>1871.12</td>\n",
              "      <td>0.33</td>\n",
              "      <td>714.61</td>\n",
              "      <td>588.62</td>\n",
              "      <td>1538.06</td>\n",
              "      <td>1157.15</td>\n",
              "      <td>1677.16</td>\n",
              "      <td>1</td>\n",
              "    </tr>\n",
              "  </tbody>\n",
              "</table>\n",
              "</div>"
            ],
            "text/plain": [
              "   customer_id  vintage  ...  previous_month_balance churn\n",
              "0            1     3135  ...                 1458.71     0\n",
              "1            2      310  ...                 8787.61     0\n",
              "2            4     2356  ...                 5070.14     0\n",
              "3            5      478  ...                 1669.79     1\n",
              "4            6     2531  ...                 1677.16     1\n",
              "\n",
              "[5 rows x 21 columns]"
            ]
          },
          "metadata": {
            "tags": []
          },
          "execution_count": 11
        }
      ]
    },
    {
      "cell_type": "code",
      "metadata": {
        "id": "PD1tRatulLbC",
        "colab": {
          "base_uri": "https://localhost:8080/"
        },
        "outputId": "1f2b85e4-09de-422f-e1aa-c3c3e337118c"
      },
      "source": [
        "dataset.isnull().any()"
      ],
      "execution_count": null,
      "outputs": [
        {
          "output_type": "execute_result",
          "data": {
            "text/plain": [
              "customer_id                       False\n",
              "vintage                           False\n",
              "age                               False\n",
              "gender                            False\n",
              "dependents                         True\n",
              "occupation                         True\n",
              "city                               True\n",
              "customer_nw_category              False\n",
              "branch_code                       False\n",
              "days_since_last_transaction        True\n",
              "current_balance                   False\n",
              "previous_month_end_balance        False\n",
              "average_monthly_balance_prevQ     False\n",
              "average_monthly_balance_prevQ2    False\n",
              "current_month_credit              False\n",
              "previous_month_credit             False\n",
              "current_month_debit               False\n",
              "previous_month_debit              False\n",
              "current_month_balance             False\n",
              "previous_month_balance            False\n",
              "churn                             False\n",
              "dtype: bool"
            ]
          },
          "metadata": {
            "tags": []
          },
          "execution_count": 12
        }
      ]
    },
    {
      "cell_type": "code",
      "metadata": {
        "id": "Crid8og1YjOv"
      },
      "source": [
        ""
      ],
      "execution_count": null,
      "outputs": []
    },
    {
      "cell_type": "code",
      "metadata": {
        "id": "ZRgVp2fOgxGS"
      },
      "source": [
        "lb = LabelEncoder()\n",
        "dataset['gender'] = lb.fit_transform(dataset['gender'])"
      ],
      "execution_count": null,
      "outputs": []
    },
    {
      "cell_type": "code",
      "metadata": {
        "id": "GSVhZj3YlcU4",
        "colab": {
          "base_uri": "https://localhost:8080/",
          "height": 223
        },
        "outputId": "d3f8ad58-4759-40a7-b90f-753a4746c907"
      },
      "source": [
        "dataset.tail()"
      ],
      "execution_count": null,
      "outputs": [
        {
          "output_type": "execute_result",
          "data": {
            "text/html": [
              "<div>\n",
              "<style scoped>\n",
              "    .dataframe tbody tr th:only-of-type {\n",
              "        vertical-align: middle;\n",
              "    }\n",
              "\n",
              "    .dataframe tbody tr th {\n",
              "        vertical-align: top;\n",
              "    }\n",
              "\n",
              "    .dataframe thead th {\n",
              "        text-align: right;\n",
              "    }\n",
              "</style>\n",
              "<table border=\"1\" class=\"dataframe\">\n",
              "  <thead>\n",
              "    <tr style=\"text-align: right;\">\n",
              "      <th></th>\n",
              "      <th>customer_id</th>\n",
              "      <th>vintage</th>\n",
              "      <th>age</th>\n",
              "      <th>gender</th>\n",
              "      <th>dependents</th>\n",
              "      <th>occupation</th>\n",
              "      <th>city</th>\n",
              "      <th>customer_nw_category</th>\n",
              "      <th>branch_code</th>\n",
              "      <th>days_since_last_transaction</th>\n",
              "      <th>current_balance</th>\n",
              "      <th>previous_month_end_balance</th>\n",
              "      <th>average_monthly_balance_prevQ</th>\n",
              "      <th>average_monthly_balance_prevQ2</th>\n",
              "      <th>current_month_credit</th>\n",
              "      <th>previous_month_credit</th>\n",
              "      <th>current_month_debit</th>\n",
              "      <th>previous_month_debit</th>\n",
              "      <th>current_month_balance</th>\n",
              "      <th>previous_month_balance</th>\n",
              "      <th>churn</th>\n",
              "    </tr>\n",
              "  </thead>\n",
              "  <tbody>\n",
              "    <tr>\n",
              "      <th>28377</th>\n",
              "      <td>30297</td>\n",
              "      <td>1845</td>\n",
              "      <td>10</td>\n",
              "      <td>0</td>\n",
              "      <td>0.0</td>\n",
              "      <td>student</td>\n",
              "      <td>1020.0</td>\n",
              "      <td>2</td>\n",
              "      <td>1207</td>\n",
              "      <td>70.0</td>\n",
              "      <td>1076.43</td>\n",
              "      <td>1076.43</td>\n",
              "      <td>2282.19</td>\n",
              "      <td>2787.70</td>\n",
              "      <td>0.30</td>\n",
              "      <td>0.30</td>\n",
              "      <td>0.30</td>\n",
              "      <td>0.30</td>\n",
              "      <td>1076.43</td>\n",
              "      <td>1076.43</td>\n",
              "      <td>0</td>\n",
              "    </tr>\n",
              "    <tr>\n",
              "      <th>28378</th>\n",
              "      <td>30298</td>\n",
              "      <td>4919</td>\n",
              "      <td>34</td>\n",
              "      <td>0</td>\n",
              "      <td>0.0</td>\n",
              "      <td>self_employed</td>\n",
              "      <td>1046.0</td>\n",
              "      <td>2</td>\n",
              "      <td>223</td>\n",
              "      <td>14.0</td>\n",
              "      <td>3844.10</td>\n",
              "      <td>4069.21</td>\n",
              "      <td>3668.83</td>\n",
              "      <td>3865.55</td>\n",
              "      <td>1.71</td>\n",
              "      <td>2.29</td>\n",
              "      <td>901.00</td>\n",
              "      <td>1014.07</td>\n",
              "      <td>3738.54</td>\n",
              "      <td>3690.32</td>\n",
              "      <td>0</td>\n",
              "    </tr>\n",
              "    <tr>\n",
              "      <th>28379</th>\n",
              "      <td>30299</td>\n",
              "      <td>297</td>\n",
              "      <td>47</td>\n",
              "      <td>1</td>\n",
              "      <td>0.0</td>\n",
              "      <td>salaried</td>\n",
              "      <td>1096.0</td>\n",
              "      <td>2</td>\n",
              "      <td>588</td>\n",
              "      <td>0.0</td>\n",
              "      <td>65511.97</td>\n",
              "      <td>61017.55</td>\n",
              "      <td>53444.81</td>\n",
              "      <td>21925.81</td>\n",
              "      <td>4666.84</td>\n",
              "      <td>3883.06</td>\n",
              "      <td>168.23</td>\n",
              "      <td>71.80</td>\n",
              "      <td>61078.50</td>\n",
              "      <td>57564.24</td>\n",
              "      <td>1</td>\n",
              "    </tr>\n",
              "    <tr>\n",
              "      <th>28380</th>\n",
              "      <td>30300</td>\n",
              "      <td>2585</td>\n",
              "      <td>50</td>\n",
              "      <td>1</td>\n",
              "      <td>3.0</td>\n",
              "      <td>self_employed</td>\n",
              "      <td>1219.0</td>\n",
              "      <td>3</td>\n",
              "      <td>274</td>\n",
              "      <td>NaN</td>\n",
              "      <td>1625.55</td>\n",
              "      <td>1625.55</td>\n",
              "      <td>1683.20</td>\n",
              "      <td>1857.42</td>\n",
              "      <td>0.20</td>\n",
              "      <td>0.20</td>\n",
              "      <td>0.20</td>\n",
              "      <td>0.20</td>\n",
              "      <td>1625.55</td>\n",
              "      <td>1625.55</td>\n",
              "      <td>0</td>\n",
              "    </tr>\n",
              "    <tr>\n",
              "      <th>28381</th>\n",
              "      <td>30301</td>\n",
              "      <td>2349</td>\n",
              "      <td>18</td>\n",
              "      <td>1</td>\n",
              "      <td>0.0</td>\n",
              "      <td>student</td>\n",
              "      <td>1232.0</td>\n",
              "      <td>2</td>\n",
              "      <td>474</td>\n",
              "      <td>59.0</td>\n",
              "      <td>2107.05</td>\n",
              "      <td>2821.34</td>\n",
              "      <td>3213.44</td>\n",
              "      <td>4447.45</td>\n",
              "      <td>0.11</td>\n",
              "      <td>7.44</td>\n",
              "      <td>714.40</td>\n",
              "      <td>1094.09</td>\n",
              "      <td>2402.62</td>\n",
              "      <td>3260.58</td>\n",
              "      <td>1</td>\n",
              "    </tr>\n",
              "  </tbody>\n",
              "</table>\n",
              "</div>"
            ],
            "text/plain": [
              "       customer_id  vintage  ...  previous_month_balance  churn\n",
              "28377        30297     1845  ...                 1076.43      0\n",
              "28378        30298     4919  ...                 3690.32      0\n",
              "28379        30299      297  ...                57564.24      1\n",
              "28380        30300     2585  ...                 1625.55      0\n",
              "28381        30301     2349  ...                 3260.58      1\n",
              "\n",
              "[5 rows x 21 columns]"
            ]
          },
          "metadata": {
            "tags": []
          },
          "execution_count": 14
        }
      ]
    },
    {
      "cell_type": "code",
      "metadata": {
        "id": "xHXC075w1PpS"
      },
      "source": [
        "# filling out the missing data in remaining column\n",
        "\n",
        "dataset['dependents'].fillna(dataset['dependents'].mean(),inplace=True)\n",
        "dataset['occupation'].fillna(dataset['occupation'].mode()[0],inplace=True)\n",
        "dataset['city'].fillna(dataset['city'].mean(),inplace=True)\n",
        "dataset['days_since_last_transaction'].fillna(dataset['days_since_last_transaction'].mean(),inplace=True)"
      ],
      "execution_count": null,
      "outputs": []
    },
    {
      "cell_type": "code",
      "metadata": {
        "id": "3fxw5oXw19Jr",
        "colab": {
          "base_uri": "https://localhost:8080/"
        },
        "outputId": "62dba345-d1a3-497f-9c6d-0d1a779326ac"
      },
      "source": [
        "dataset.isnull().any()"
      ],
      "execution_count": null,
      "outputs": [
        {
          "output_type": "execute_result",
          "data": {
            "text/plain": [
              "customer_id                       False\n",
              "vintage                           False\n",
              "age                               False\n",
              "gender                            False\n",
              "dependents                        False\n",
              "occupation                        False\n",
              "city                              False\n",
              "customer_nw_category              False\n",
              "branch_code                       False\n",
              "days_since_last_transaction       False\n",
              "current_balance                   False\n",
              "previous_month_end_balance        False\n",
              "average_monthly_balance_prevQ     False\n",
              "average_monthly_balance_prevQ2    False\n",
              "current_month_credit              False\n",
              "previous_month_credit             False\n",
              "current_month_debit               False\n",
              "previous_month_debit              False\n",
              "current_month_balance             False\n",
              "previous_month_balance            False\n",
              "churn                             False\n",
              "dtype: bool"
            ]
          },
          "metadata": {
            "tags": []
          },
          "execution_count": 16
        }
      ]
    },
    {
      "cell_type": "code",
      "metadata": {
        "id": "jnZxNJrh2YhW",
        "colab": {
          "base_uri": "https://localhost:8080/"
        },
        "outputId": "652a57fd-f805-438a-aaf8-2c9bfb8053da"
      },
      "source": [
        "print(\"percentage 0 \",round(dataset.churn.value_counts()[0]/len(dataset)*100,2) )\n",
        "print(\"percentage 1 \",round(dataset.churn.value_counts()[1]/len(dataset)*100,2) )"
      ],
      "execution_count": null,
      "outputs": [
        {
          "output_type": "stream",
          "text": [
            "percentage 0  81.47\n",
            "percentage 1  18.53\n"
          ],
          "name": "stdout"
        }
      ]
    },
    {
      "cell_type": "code",
      "metadata": {
        "id": "7y444zKk2jkN",
        "colab": {
          "base_uri": "https://localhost:8080/",
          "height": 721
        },
        "outputId": "d6092997-7f6a-49c0-be23-3a84f9bbc08b"
      },
      "source": [
        "# Since we can observe now, that the dataset is highly imbalanced we'll analyze some parameters before moving to model building\n",
        "\n",
        "plt.figure(figsize = (20,9))\n",
        "corrmat = dataset.corr()\n",
        "sn.heatmap(corrmat,annot = True,linewidths=.7)"
      ],
      "execution_count": null,
      "outputs": [
        {
          "output_type": "execute_result",
          "data": {
            "text/plain": [
              "<matplotlib.axes._subplots.AxesSubplot at 0x7f5b37aff750>"
            ]
          },
          "metadata": {
            "tags": []
          },
          "execution_count": 18
        },
        {
          "output_type": "display_data",
          "data": {
            "image/png": "[encoded data removed]",
            "text/plain": [
              "<Figure size 1440x648 with 2 Axes>"
            ]
          },
          "metadata": {
            "tags": [],
            "needs_background": "light"
          }
        }
      ]
    },
    {
      "cell_type": "code",
      "metadata": {
        "id": "Yj1QgwTZLFTB",
        "colab": {
          "base_uri": "https://localhost:8080/"
        },
        "outputId": "d4087f0b-e881-4f55-c512-4503719969ab"
      },
      "source": [
        "corrmat.shape"
      ],
      "execution_count": null,
      "outputs": [
        {
          "output_type": "execute_result",
          "data": {
            "text/plain": [
              "(20, 20)"
            ]
          },
          "metadata": {
            "tags": []
          },
          "execution_count": 19
        }
      ]
    },
    {
      "cell_type": "code",
      "metadata": {
        "id": "TGfaKdcG2kYV",
        "colab": {
          "base_uri": "https://localhost:8080/",
          "height": 1000
        },
        "outputId": "4cb77b2f-40b0-4dd6-fdc8-f23f65ad23ce"
      },
      "source": [
        "columns_list = list(dataset.columns)\n",
        "columns_list.remove('customer_id')\n",
        "columns_list.remove('churn')\n",
        "\n",
        "for i in columns_list:\n",
        "  fig = plt.figure(figsize = (10,6))\n",
        "  sn.barplot(x = 'churn', y = i, data = dataset)"
      ],
      "execution_count": null,
      "outputs": [
        {
          "output_type": "display_data",
          "data": {
            "image/png": "[encoded data removed]",
            "text/plain": [
              "<Figure size 720x432 with 1 Axes>"
            ]
          },
          "metadata": {
            "tags": [],
            "needs_background": "light"
          }
        },
        {
          "output_type": "display_data",
          "data": {
            "image/png": "[encoded data removed]",
            "text/plain": [
              "<Figure size 720x432 with 1 Axes>"
            ]
          },
          "metadata": {
            "tags": [],
            "needs_background": "light"
          }
        },
        {
          "output_type": "display_data",
          "data": {
            "image/png": "[encoded data removed]",
            "text/plain": [
              "<Figure size 720x432 with 1 Axes>"
            ]
          },
          "metadata": {
            "tags": [],
            "needs_background": "light"
          }
        },
        {
          "output_type": "display_data",
          "data": {
            "image/png": "[encoded data removed]",
            "text/plain": [
              "<Figure size 720x432 with 1 Axes>"
            ]
          },
          "metadata": {
            "tags": [],
            "needs_background": "light"
          }
        },
        {
          "output_type": "display_data",
          "data": {
            "image/png": "[encoded data removed]",
            "text/plain": [
              "<Figure size 720x432 with 1 Axes>"
            ]
          },
          "metadata": {
            "tags": [],
            "needs_background": "light"
          }
        },
        {
          "output_type": "display_data",
          "data": {
            "image/png": "[encoded data removed]",
            "text/plain": [
              "<Figure size 720x432 with 1 Axes>"
            ]
          },
          "metadata": {
            "tags": [],
            "needs_background": "light"
          }
        },
        {
          "output_type": "display_data",
          "data": {
            "image/png": "[encoded data removed]",
            "text/plain": [
              "<Figure size 720x432 with 1 Axes>"
            ]
          },
          "metadata": {
            "tags": [],
            "needs_background": "light"
          }
        },
        {
          "output_type": "display_data",
          "data": {
            "image/png": "[encoded data removed]",
            "text/plain": [
              "<Figure size 720x432 with 1 Axes>"
            ]
          },
          "metadata": {
            "tags": [],
            "needs_background": "light"
          }
        },
        {
          "output_type": "display_data",
          "data": {
            "image/png": "[encoded data removed]",
            "text/plain": [
              "<Figure size 720x432 with 1 Axes>"
            ]
          },
          "metadata": {
            "tags": [],
            "needs_background": "light"
          }
        },
        {
          "output_type": "display_data",
          "data": {
            "image/png": "[encoded data removed]",
            "text/plain": [
              "<Figure size 720x432 with 1 Axes>"
            ]
          },
          "metadata": {
            "tags": [],
            "needs_background": "light"
          }
        },
        {
          "output_type": "display_data",
          "data": {
            "image/png": "[encoded data removed]",
            "text/plain": [
              "<Figure size 720x432 with 1 Axes>"
            ]
          },
          "metadata": {
            "tags": [],
            "needs_background": "light"
          }
        },
        {
          "output_type": "display_data",
          "data": {
            "image/png": "[encoded data removed]",
            "text/plain": [
              "<Figure size 720x432 with 1 Axes>"
            ]
          },
          "metadata": {
            "tags": [],
            "needs_background": "light"
          }
        },
        {
          "output_type": "display_data",
          "data": {
            "image/png": "[encoded data removed]",
            "text/plain": [
              "<Figure size 720x432 with 1 Axes>"
            ]
          },
          "metadata": {
            "tags": [],
            "needs_background": "light"
          }
        },
        {
          "output_type": "display_data",
          "data": {
            "image/png": "[encoded data removed]",
            "text/plain": [
              "<Figure size 720x432 with 1 Axes>"
            ]
          },
          "metadata": {
            "tags": [],
            "needs_background": "light"
          }
        },
        {
          "output_type": "display_data",
          "data": {
            "image/png": "[encoded data removed]",
            "text/plain": [
              "<Figure size 720x432 with 1 Axes>"
            ]
          },
          "metadata": {
            "tags": [],
            "needs_background": "light"
          }
        },
        {
          "output_type": "display_data",
          "data": {
            "image/png": "[encoded data removed]",
            "text/plain": [
              "<Figure size 720x432 with 1 Axes>"
            ]
          },
          "metadata": {
            "tags": [],
            "needs_background": "light"
          }
        },
        {
          "output_type": "display_data",
          "data": {
            "image/png": "[encoded data removed]",
            "text/plain": [
              "<Figure size 720x432 with 1 Axes>"
            ]
          },
          "metadata": {
            "tags": [],
            "needs_background": "light"
          }
        },
        {
          "output_type": "display_data",
          "data": {
            "image/png": "[encoded data removed]",
            "text/plain": [
              "<Figure size 720x432 with 1 Axes>"
            ]
          },
          "metadata": {
            "tags": [],
            "needs_background": "light"
          }
        },
        {
          "output_type": "display_data",
          "data": {
            "image/png": "[encoded data removed]",
            "text/plain": [
              "<Figure size 720x432 with 1 Axes>"
            ]
          },
          "metadata": {
            "tags": [],
            "needs_background": "light"
          }
        }
      ]
    },
    {
      "cell_type": "code",
      "metadata": {
        "id": "Xi9BwhtLhI6B",
        "colab": {
          "base_uri": "https://localhost:8080/"
        },
        "outputId": "dcc3671f-2fc9-4141-ffe0-9e7acade484d"
      },
      "source": [
        "dataset.churn.value_counts()"
      ],
      "execution_count": null,
      "outputs": [
        {
          "output_type": "execute_result",
          "data": {
            "text/plain": [
              "0    23122\n",
              "1     5260\n",
              "Name: churn, dtype: int64"
            ]
          },
          "metadata": {
            "tags": []
          },
          "execution_count": 21
        }
      ]
    },
    {
      "cell_type": "code",
      "metadata": {
        "id": "wJjj7f9HgR6D",
        "colab": {
          "base_uri": "https://localhost:8080/",
          "height": 223
        },
        "outputId": "beb07f77-cafb-4c4c-8dfa-71296b741e44"
      },
      "source": [
        "dataset.head()"
      ],
      "execution_count": null,
      "outputs": [
        {
          "output_type": "execute_result",
          "data": {
            "text/html": [
              "<div>\n",
              "<style scoped>\n",
              "    .dataframe tbody tr th:only-of-type {\n",
              "        vertical-align: middle;\n",
              "    }\n",
              "\n",
              "    .dataframe tbody tr th {\n",
              "        vertical-align: top;\n",
              "    }\n",
              "\n",
              "    .dataframe thead th {\n",
              "        text-align: right;\n",
              "    }\n",
              "</style>\n",
              "<table border=\"1\" class=\"dataframe\">\n",
              "  <thead>\n",
              "    <tr style=\"text-align: right;\">\n",
              "      <th></th>\n",
              "      <th>customer_id</th>\n",
              "      <th>vintage</th>\n",
              "      <th>age</th>\n",
              "      <th>gender</th>\n",
              "      <th>dependents</th>\n",
              "      <th>occupation</th>\n",
              "      <th>city</th>\n",
              "      <th>customer_nw_category</th>\n",
              "      <th>branch_code</th>\n",
              "      <th>days_since_last_transaction</th>\n",
              "      <th>current_balance</th>\n",
              "      <th>previous_month_end_balance</th>\n",
              "      <th>average_monthly_balance_prevQ</th>\n",
              "      <th>average_monthly_balance_prevQ2</th>\n",
              "      <th>current_month_credit</th>\n",
              "      <th>previous_month_credit</th>\n",
              "      <th>current_month_debit</th>\n",
              "      <th>previous_month_debit</th>\n",
              "      <th>current_month_balance</th>\n",
              "      <th>previous_month_balance</th>\n",
              "      <th>churn</th>\n",
              "    </tr>\n",
              "  </thead>\n",
              "  <tbody>\n",
              "    <tr>\n",
              "      <th>0</th>\n",
              "      <td>1</td>\n",
              "      <td>3135</td>\n",
              "      <td>66</td>\n",
              "      <td>1</td>\n",
              "      <td>0.000000</td>\n",
              "      <td>self_employed</td>\n",
              "      <td>187.000000</td>\n",
              "      <td>2</td>\n",
              "      <td>755</td>\n",
              "      <td>224.000000</td>\n",
              "      <td>1458.71</td>\n",
              "      <td>1458.71</td>\n",
              "      <td>1458.71</td>\n",
              "      <td>1449.07</td>\n",
              "      <td>0.20</td>\n",
              "      <td>0.20</td>\n",
              "      <td>0.20</td>\n",
              "      <td>0.20</td>\n",
              "      <td>1458.71</td>\n",
              "      <td>1458.71</td>\n",
              "      <td>0</td>\n",
              "    </tr>\n",
              "    <tr>\n",
              "      <th>1</th>\n",
              "      <td>2</td>\n",
              "      <td>310</td>\n",
              "      <td>35</td>\n",
              "      <td>1</td>\n",
              "      <td>0.000000</td>\n",
              "      <td>self_employed</td>\n",
              "      <td>796.109576</td>\n",
              "      <td>2</td>\n",
              "      <td>3214</td>\n",
              "      <td>60.000000</td>\n",
              "      <td>5390.37</td>\n",
              "      <td>8704.66</td>\n",
              "      <td>7799.26</td>\n",
              "      <td>12419.41</td>\n",
              "      <td>0.56</td>\n",
              "      <td>0.56</td>\n",
              "      <td>5486.27</td>\n",
              "      <td>100.56</td>\n",
              "      <td>6496.78</td>\n",
              "      <td>8787.61</td>\n",
              "      <td>0</td>\n",
              "    </tr>\n",
              "    <tr>\n",
              "      <th>2</th>\n",
              "      <td>4</td>\n",
              "      <td>2356</td>\n",
              "      <td>31</td>\n",
              "      <td>1</td>\n",
              "      <td>0.000000</td>\n",
              "      <td>salaried</td>\n",
              "      <td>146.000000</td>\n",
              "      <td>2</td>\n",
              "      <td>41</td>\n",
              "      <td>69.997814</td>\n",
              "      <td>3913.16</td>\n",
              "      <td>5815.29</td>\n",
              "      <td>4910.17</td>\n",
              "      <td>2815.94</td>\n",
              "      <td>0.61</td>\n",
              "      <td>0.61</td>\n",
              "      <td>6046.73</td>\n",
              "      <td>259.23</td>\n",
              "      <td>5006.28</td>\n",
              "      <td>5070.14</td>\n",
              "      <td>0</td>\n",
              "    </tr>\n",
              "    <tr>\n",
              "      <th>3</th>\n",
              "      <td>5</td>\n",
              "      <td>478</td>\n",
              "      <td>90</td>\n",
              "      <td>1</td>\n",
              "      <td>0.347236</td>\n",
              "      <td>self_employed</td>\n",
              "      <td>1020.000000</td>\n",
              "      <td>2</td>\n",
              "      <td>582</td>\n",
              "      <td>147.000000</td>\n",
              "      <td>2291.91</td>\n",
              "      <td>2291.91</td>\n",
              "      <td>2084.54</td>\n",
              "      <td>1006.54</td>\n",
              "      <td>0.47</td>\n",
              "      <td>0.47</td>\n",
              "      <td>0.47</td>\n",
              "      <td>2143.33</td>\n",
              "      <td>2291.91</td>\n",
              "      <td>1669.79</td>\n",
              "      <td>1</td>\n",
              "    </tr>\n",
              "    <tr>\n",
              "      <th>4</th>\n",
              "      <td>6</td>\n",
              "      <td>2531</td>\n",
              "      <td>42</td>\n",
              "      <td>1</td>\n",
              "      <td>2.000000</td>\n",
              "      <td>self_employed</td>\n",
              "      <td>1494.000000</td>\n",
              "      <td>3</td>\n",
              "      <td>388</td>\n",
              "      <td>58.000000</td>\n",
              "      <td>927.72</td>\n",
              "      <td>1401.72</td>\n",
              "      <td>1643.31</td>\n",
              "      <td>1871.12</td>\n",
              "      <td>0.33</td>\n",
              "      <td>714.61</td>\n",
              "      <td>588.62</td>\n",
              "      <td>1538.06</td>\n",
              "      <td>1157.15</td>\n",
              "      <td>1677.16</td>\n",
              "      <td>1</td>\n",
              "    </tr>\n",
              "  </tbody>\n",
              "</table>\n",
              "</div>"
            ],
            "text/plain": [
              "   customer_id  vintage  ...  previous_month_balance  churn\n",
              "0            1     3135  ...                 1458.71      0\n",
              "1            2      310  ...                 8787.61      0\n",
              "2            4     2356  ...                 5070.14      0\n",
              "3            5      478  ...                 1669.79      1\n",
              "4            6     2531  ...                 1677.16      1\n",
              "\n",
              "[5 rows x 21 columns]"
            ]
          },
          "metadata": {
            "tags": []
          },
          "execution_count": 22
        }
      ]
    },
    {
      "cell_type": "code",
      "metadata": {
        "id": "Tv5aZKg9goR_",
        "colab": {
          "base_uri": "https://localhost:8080/",
          "height": 223
        },
        "outputId": "2606b1f4-2154-4cb3-fd2f-dd9ee422664d"
      },
      "source": [
        "dataset.tail()"
      ],
      "execution_count": null,
      "outputs": [
        {
          "output_type": "execute_result",
          "data": {
            "text/html": [
              "<div>\n",
              "<style scoped>\n",
              "    .dataframe tbody tr th:only-of-type {\n",
              "        vertical-align: middle;\n",
              "    }\n",
              "\n",
              "    .dataframe tbody tr th {\n",
              "        vertical-align: top;\n",
              "    }\n",
              "\n",
              "    .dataframe thead th {\n",
              "        text-align: right;\n",
              "    }\n",
              "</style>\n",
              "<table border=\"1\" class=\"dataframe\">\n",
              "  <thead>\n",
              "    <tr style=\"text-align: right;\">\n",
              "      <th></th>\n",
              "      <th>customer_id</th>\n",
              "      <th>vintage</th>\n",
              "      <th>age</th>\n",
              "      <th>gender</th>\n",
              "      <th>dependents</th>\n",
              "      <th>occupation</th>\n",
              "      <th>city</th>\n",
              "      <th>customer_nw_category</th>\n",
              "      <th>branch_code</th>\n",
              "      <th>days_since_last_transaction</th>\n",
              "      <th>current_balance</th>\n",
              "      <th>previous_month_end_balance</th>\n",
              "      <th>average_monthly_balance_prevQ</th>\n",
              "      <th>average_monthly_balance_prevQ2</th>\n",
              "      <th>current_month_credit</th>\n",
              "      <th>previous_month_credit</th>\n",
              "      <th>current_month_debit</th>\n",
              "      <th>previous_month_debit</th>\n",
              "      <th>current_month_balance</th>\n",
              "      <th>previous_month_balance</th>\n",
              "      <th>churn</th>\n",
              "    </tr>\n",
              "  </thead>\n",
              "  <tbody>\n",
              "    <tr>\n",
              "      <th>28377</th>\n",
              "      <td>30297</td>\n",
              "      <td>1845</td>\n",
              "      <td>10</td>\n",
              "      <td>0</td>\n",
              "      <td>0.0</td>\n",
              "      <td>student</td>\n",
              "      <td>1020.0</td>\n",
              "      <td>2</td>\n",
              "      <td>1207</td>\n",
              "      <td>70.000000</td>\n",
              "      <td>1076.43</td>\n",
              "      <td>1076.43</td>\n",
              "      <td>2282.19</td>\n",
              "      <td>2787.70</td>\n",
              "      <td>0.30</td>\n",
              "      <td>0.30</td>\n",
              "      <td>0.30</td>\n",
              "      <td>0.30</td>\n",
              "      <td>1076.43</td>\n",
              "      <td>1076.43</td>\n",
              "      <td>0</td>\n",
              "    </tr>\n",
              "    <tr>\n",
              "      <th>28378</th>\n",
              "      <td>30298</td>\n",
              "      <td>4919</td>\n",
              "      <td>34</td>\n",
              "      <td>0</td>\n",
              "      <td>0.0</td>\n",
              "      <td>self_employed</td>\n",
              "      <td>1046.0</td>\n",
              "      <td>2</td>\n",
              "      <td>223</td>\n",
              "      <td>14.000000</td>\n",
              "      <td>3844.10</td>\n",
              "      <td>4069.21</td>\n",
              "      <td>3668.83</td>\n",
              "      <td>3865.55</td>\n",
              "      <td>1.71</td>\n",
              "      <td>2.29</td>\n",
              "      <td>901.00</td>\n",
              "      <td>1014.07</td>\n",
              "      <td>3738.54</td>\n",
              "      <td>3690.32</td>\n",
              "      <td>0</td>\n",
              "    </tr>\n",
              "    <tr>\n",
              "      <th>28379</th>\n",
              "      <td>30299</td>\n",
              "      <td>297</td>\n",
              "      <td>47</td>\n",
              "      <td>1</td>\n",
              "      <td>0.0</td>\n",
              "      <td>salaried</td>\n",
              "      <td>1096.0</td>\n",
              "      <td>2</td>\n",
              "      <td>588</td>\n",
              "      <td>0.000000</td>\n",
              "      <td>65511.97</td>\n",
              "      <td>61017.55</td>\n",
              "      <td>53444.81</td>\n",
              "      <td>21925.81</td>\n",
              "      <td>4666.84</td>\n",
              "      <td>3883.06</td>\n",
              "      <td>168.23</td>\n",
              "      <td>71.80</td>\n",
              "      <td>61078.50</td>\n",
              "      <td>57564.24</td>\n",
              "      <td>1</td>\n",
              "    </tr>\n",
              "    <tr>\n",
              "      <th>28380</th>\n",
              "      <td>30300</td>\n",
              "      <td>2585</td>\n",
              "      <td>50</td>\n",
              "      <td>1</td>\n",
              "      <td>3.0</td>\n",
              "      <td>self_employed</td>\n",
              "      <td>1219.0</td>\n",
              "      <td>3</td>\n",
              "      <td>274</td>\n",
              "      <td>69.997814</td>\n",
              "      <td>1625.55</td>\n",
              "      <td>1625.55</td>\n",
              "      <td>1683.20</td>\n",
              "      <td>1857.42</td>\n",
              "      <td>0.20</td>\n",
              "      <td>0.20</td>\n",
              "      <td>0.20</td>\n",
              "      <td>0.20</td>\n",
              "      <td>1625.55</td>\n",
              "      <td>1625.55</td>\n",
              "      <td>0</td>\n",
              "    </tr>\n",
              "    <tr>\n",
              "      <th>28381</th>\n",
              "      <td>30301</td>\n",
              "      <td>2349</td>\n",
              "      <td>18</td>\n",
              "      <td>1</td>\n",
              "      <td>0.0</td>\n",
              "      <td>student</td>\n",
              "      <td>1232.0</td>\n",
              "      <td>2</td>\n",
              "      <td>474</td>\n",
              "      <td>59.000000</td>\n",
              "      <td>2107.05</td>\n",
              "      <td>2821.34</td>\n",
              "      <td>3213.44</td>\n",
              "      <td>4447.45</td>\n",
              "      <td>0.11</td>\n",
              "      <td>7.44</td>\n",
              "      <td>714.40</td>\n",
              "      <td>1094.09</td>\n",
              "      <td>2402.62</td>\n",
              "      <td>3260.58</td>\n",
              "      <td>1</td>\n",
              "    </tr>\n",
              "  </tbody>\n",
              "</table>\n",
              "</div>"
            ],
            "text/plain": [
              "       customer_id  vintage  ...  previous_month_balance  churn\n",
              "28377        30297     1845  ...                 1076.43      0\n",
              "28378        30298     4919  ...                 3690.32      0\n",
              "28379        30299      297  ...                57564.24      1\n",
              "28380        30300     2585  ...                 1625.55      0\n",
              "28381        30301     2349  ...                 3260.58      1\n",
              "\n",
              "[5 rows x 21 columns]"
            ]
          },
          "metadata": {
            "tags": []
          },
          "execution_count": 23
        }
      ]
    },
    {
      "cell_type": "code",
      "metadata": {
        "id": "ab6aPbjClfES",
        "colab": {
          "base_uri": "https://localhost:8080/",
          "height": 223
        },
        "outputId": "f657320a-6bd7-4450-d14d-726dcb16ab04"
      },
      "source": [
        " dataset.head()"
      ],
      "execution_count": null,
      "outputs": [
        {
          "output_type": "execute_result",
          "data": {
            "text/html": [
              "<div>\n",
              "<style scoped>\n",
              "    .dataframe tbody tr th:only-of-type {\n",
              "        vertical-align: middle;\n",
              "    }\n",
              "\n",
              "    .dataframe tbody tr th {\n",
              "        vertical-align: top;\n",
              "    }\n",
              "\n",
              "    .dataframe thead th {\n",
              "        text-align: right;\n",
              "    }\n",
              "</style>\n",
              "<table border=\"1\" class=\"dataframe\">\n",
              "  <thead>\n",
              "    <tr style=\"text-align: right;\">\n",
              "      <th></th>\n",
              "      <th>customer_id</th>\n",
              "      <th>vintage</th>\n",
              "      <th>age</th>\n",
              "      <th>gender</th>\n",
              "      <th>dependents</th>\n",
              "      <th>occupation</th>\n",
              "      <th>city</th>\n",
              "      <th>customer_nw_category</th>\n",
              "      <th>branch_code</th>\n",
              "      <th>days_since_last_transaction</th>\n",
              "      <th>current_balance</th>\n",
              "      <th>previous_month_end_balance</th>\n",
              "      <th>average_monthly_balance_prevQ</th>\n",
              "      <th>average_monthly_balance_prevQ2</th>\n",
              "      <th>current_month_credit</th>\n",
              "      <th>previous_month_credit</th>\n",
              "      <th>current_month_debit</th>\n",
              "      <th>previous_month_debit</th>\n",
              "      <th>current_month_balance</th>\n",
              "      <th>previous_month_balance</th>\n",
              "      <th>churn</th>\n",
              "    </tr>\n",
              "  </thead>\n",
              "  <tbody>\n",
              "    <tr>\n",
              "      <th>0</th>\n",
              "      <td>1</td>\n",
              "      <td>3135</td>\n",
              "      <td>66</td>\n",
              "      <td>1</td>\n",
              "      <td>0.000000</td>\n",
              "      <td>self_employed</td>\n",
              "      <td>187.000000</td>\n",
              "      <td>2</td>\n",
              "      <td>755</td>\n",
              "      <td>224.000000</td>\n",
              "      <td>1458.71</td>\n",
              "      <td>1458.71</td>\n",
              "      <td>1458.71</td>\n",
              "      <td>1449.07</td>\n",
              "      <td>0.20</td>\n",
              "      <td>0.20</td>\n",
              "      <td>0.20</td>\n",
              "      <td>0.20</td>\n",
              "      <td>1458.71</td>\n",
              "      <td>1458.71</td>\n",
              "      <td>0</td>\n",
              "    </tr>\n",
              "    <tr>\n",
              "      <th>1</th>\n",
              "      <td>2</td>\n",
              "      <td>310</td>\n",
              "      <td>35</td>\n",
              "      <td>1</td>\n",
              "      <td>0.000000</td>\n",
              "      <td>self_employed</td>\n",
              "      <td>796.109576</td>\n",
              "      <td>2</td>\n",
              "      <td>3214</td>\n",
              "      <td>60.000000</td>\n",
              "      <td>5390.37</td>\n",
              "      <td>8704.66</td>\n",
              "      <td>7799.26</td>\n",
              "      <td>12419.41</td>\n",
              "      <td>0.56</td>\n",
              "      <td>0.56</td>\n",
              "      <td>5486.27</td>\n",
              "      <td>100.56</td>\n",
              "      <td>6496.78</td>\n",
              "      <td>8787.61</td>\n",
              "      <td>0</td>\n",
              "    </tr>\n",
              "    <tr>\n",
              "      <th>2</th>\n",
              "      <td>4</td>\n",
              "      <td>2356</td>\n",
              "      <td>31</td>\n",
              "      <td>1</td>\n",
              "      <td>0.000000</td>\n",
              "      <td>salaried</td>\n",
              "      <td>146.000000</td>\n",
              "      <td>2</td>\n",
              "      <td>41</td>\n",
              "      <td>69.997814</td>\n",
              "      <td>3913.16</td>\n",
              "      <td>5815.29</td>\n",
              "      <td>4910.17</td>\n",
              "      <td>2815.94</td>\n",
              "      <td>0.61</td>\n",
              "      <td>0.61</td>\n",
              "      <td>6046.73</td>\n",
              "      <td>259.23</td>\n",
              "      <td>5006.28</td>\n",
              "      <td>5070.14</td>\n",
              "      <td>0</td>\n",
              "    </tr>\n",
              "    <tr>\n",
              "      <th>3</th>\n",
              "      <td>5</td>\n",
              "      <td>478</td>\n",
              "      <td>90</td>\n",
              "      <td>1</td>\n",
              "      <td>0.347236</td>\n",
              "      <td>self_employed</td>\n",
              "      <td>1020.000000</td>\n",
              "      <td>2</td>\n",
              "      <td>582</td>\n",
              "      <td>147.000000</td>\n",
              "      <td>2291.91</td>\n",
              "      <td>2291.91</td>\n",
              "      <td>2084.54</td>\n",
              "      <td>1006.54</td>\n",
              "      <td>0.47</td>\n",
              "      <td>0.47</td>\n",
              "      <td>0.47</td>\n",
              "      <td>2143.33</td>\n",
              "      <td>2291.91</td>\n",
              "      <td>1669.79</td>\n",
              "      <td>1</td>\n",
              "    </tr>\n",
              "    <tr>\n",
              "      <th>4</th>\n",
              "      <td>6</td>\n",
              "      <td>2531</td>\n",
              "      <td>42</td>\n",
              "      <td>1</td>\n",
              "      <td>2.000000</td>\n",
              "      <td>self_employed</td>\n",
              "      <td>1494.000000</td>\n",
              "      <td>3</td>\n",
              "      <td>388</td>\n",
              "      <td>58.000000</td>\n",
              "      <td>927.72</td>\n",
              "      <td>1401.72</td>\n",
              "      <td>1643.31</td>\n",
              "      <td>1871.12</td>\n",
              "      <td>0.33</td>\n",
              "      <td>714.61</td>\n",
              "      <td>588.62</td>\n",
              "      <td>1538.06</td>\n",
              "      <td>1157.15</td>\n",
              "      <td>1677.16</td>\n",
              "      <td>1</td>\n",
              "    </tr>\n",
              "  </tbody>\n",
              "</table>\n",
              "</div>"
            ],
            "text/plain": [
              "   customer_id  vintage  ...  previous_month_balance  churn\n",
              "0            1     3135  ...                 1458.71      0\n",
              "1            2      310  ...                 8787.61      0\n",
              "2            4     2356  ...                 5070.14      0\n",
              "3            5      478  ...                 1669.79      1\n",
              "4            6     2531  ...                 1677.16      1\n",
              "\n",
              "[5 rows x 21 columns]"
            ]
          },
          "metadata": {
            "tags": []
          },
          "execution_count": 24
        }
      ]
    },
    {
      "cell_type": "code",
      "metadata": {
        "id": "BNtSUZ0U3uAH"
      },
      "source": [
        "dataset.drop(dataset.columns[[0,2,3,6,7,8,10,11,12,13,15,18,19]], axis=1,inplace=True)"
      ],
      "execution_count": null,
      "outputs": []
    },
    {
      "cell_type": "code",
      "metadata": {
        "id": "ZlJoKqH65Cab",
        "colab": {
          "base_uri": "https://localhost:8080/",
          "height": 203
        },
        "outputId": "1d62c11f-9705-455d-de5d-3047443e44c8"
      },
      "source": [
        "dataset.head()"
      ],
      "execution_count": null,
      "outputs": [
        {
          "output_type": "execute_result",
          "data": {
            "text/html": [
              "<div>\n",
              "<style scoped>\n",
              "    .dataframe tbody tr th:only-of-type {\n",
              "        vertical-align: middle;\n",
              "    }\n",
              "\n",
              "    .dataframe tbody tr th {\n",
              "        vertical-align: top;\n",
              "    }\n",
              "\n",
              "    .dataframe thead th {\n",
              "        text-align: right;\n",
              "    }\n",
              "</style>\n",
              "<table border=\"1\" class=\"dataframe\">\n",
              "  <thead>\n",
              "    <tr style=\"text-align: right;\">\n",
              "      <th></th>\n",
              "      <th>vintage</th>\n",
              "      <th>dependents</th>\n",
              "      <th>occupation</th>\n",
              "      <th>days_since_last_transaction</th>\n",
              "      <th>current_month_credit</th>\n",
              "      <th>current_month_debit</th>\n",
              "      <th>previous_month_debit</th>\n",
              "      <th>churn</th>\n",
              "    </tr>\n",
              "  </thead>\n",
              "  <tbody>\n",
              "    <tr>\n",
              "      <th>0</th>\n",
              "      <td>3135</td>\n",
              "      <td>0.000000</td>\n",
              "      <td>self_employed</td>\n",
              "      <td>224.000000</td>\n",
              "      <td>0.20</td>\n",
              "      <td>0.20</td>\n",
              "      <td>0.20</td>\n",
              "      <td>0</td>\n",
              "    </tr>\n",
              "    <tr>\n",
              "      <th>1</th>\n",
              "      <td>310</td>\n",
              "      <td>0.000000</td>\n",
              "      <td>self_employed</td>\n",
              "      <td>60.000000</td>\n",
              "      <td>0.56</td>\n",
              "      <td>5486.27</td>\n",
              "      <td>100.56</td>\n",
              "      <td>0</td>\n",
              "    </tr>\n",
              "    <tr>\n",
              "      <th>2</th>\n",
              "      <td>2356</td>\n",
              "      <td>0.000000</td>\n",
              "      <td>salaried</td>\n",
              "      <td>69.997814</td>\n",
              "      <td>0.61</td>\n",
              "      <td>6046.73</td>\n",
              "      <td>259.23</td>\n",
              "      <td>0</td>\n",
              "    </tr>\n",
              "    <tr>\n",
              "      <th>3</th>\n",
              "      <td>478</td>\n",
              "      <td>0.347236</td>\n",
              "      <td>self_employed</td>\n",
              "      <td>147.000000</td>\n",
              "      <td>0.47</td>\n",
              "      <td>0.47</td>\n",
              "      <td>2143.33</td>\n",
              "      <td>1</td>\n",
              "    </tr>\n",
              "    <tr>\n",
              "      <th>4</th>\n",
              "      <td>2531</td>\n",
              "      <td>2.000000</td>\n",
              "      <td>self_employed</td>\n",
              "      <td>58.000000</td>\n",
              "      <td>0.33</td>\n",
              "      <td>588.62</td>\n",
              "      <td>1538.06</td>\n",
              "      <td>1</td>\n",
              "    </tr>\n",
              "  </tbody>\n",
              "</table>\n",
              "</div>"
            ],
            "text/plain": [
              "   vintage  dependents  ... previous_month_debit  churn\n",
              "0     3135    0.000000  ...                 0.20      0\n",
              "1      310    0.000000  ...               100.56      0\n",
              "2     2356    0.000000  ...               259.23      0\n",
              "3      478    0.347236  ...              2143.33      1\n",
              "4     2531    2.000000  ...              1538.06      1\n",
              "\n",
              "[5 rows x 8 columns]"
            ]
          },
          "metadata": {
            "tags": []
          },
          "execution_count": 26
        }
      ]
    },
    {
      "cell_type": "markdown",
      "metadata": {
        "id": "eyMc08Z4uv3K"
      },
      "source": [
        "## Separating dependant and independant variables"
      ]
    },
    {
      "cell_type": "code",
      "metadata": {
        "id": "0ITwqMljtqDs"
      },
      "source": [
        "x = dataset.iloc[:,0:7].values\n",
        "y = dataset.iloc[:,7:].values"
      ],
      "execution_count": null,
      "outputs": []
    },
    {
      "cell_type": "code",
      "metadata": {
        "id": "04CRTrzU5Tn5",
        "colab": {
          "base_uri": "https://localhost:8080/"
        },
        "outputId": "38bf3f6f-53c4-4e45-e8c8-b4f862c9b05a"
      },
      "source": [
        "x"
      ],
      "execution_count": null,
      "outputs": [
        {
          "output_type": "execute_result",
          "data": {
            "text/plain": [
              "array([[3135, 0.0, 'self_employed', ..., 0.2, 0.2, 0.2],\n",
              "       [310, 0.0, 'self_employed', ..., 0.56, 5486.27, 100.56],\n",
              "       [2356, 0.0, 'salaried', ..., 0.61, 6046.73, 259.23],\n",
              "       ...,\n",
              "       [297, 0.0, 'salaried', ..., 4666.84, 168.23, 71.8],\n",
              "       [2585, 3.0, 'self_employed', ..., 0.2, 0.2, 0.2],\n",
              "       [2349, 0.0, 'student', ..., 0.11, 714.4, 1094.09]], dtype=object)"
            ]
          },
          "metadata": {
            "tags": []
          },
          "execution_count": 28
        }
      ]
    },
    {
      "cell_type": "code",
      "metadata": {
        "id": "waC4LzbY5Wbp",
        "colab": {
          "base_uri": "https://localhost:8080/"
        },
        "outputId": "ac9f0b5f-fca9-410d-f57f-d536eabce14e"
      },
      "source": [
        "y"
      ],
      "execution_count": null,
      "outputs": [
        {
          "output_type": "execute_result",
          "data": {
            "text/plain": [
              "array([[0],\n",
              "       [0],\n",
              "       [0],\n",
              "       ...,\n",
              "       [1],\n",
              "       [0],\n",
              "       [1]])"
            ]
          },
          "metadata": {
            "tags": []
          },
          "execution_count": 29
        }
      ]
    },
    {
      "cell_type": "markdown",
      "metadata": {
        "id": "sQEv9dBtqcSW"
      },
      "source": [
        "# OneHot Encoding\n",
        "\n",
        "**Occupation** column also is categorical and contains five categories viz.\n",
        " - self_employed\n",
        " - salaried\n",
        " - Student\n",
        " - retired\n",
        " - company\n",
        "\n",
        " We make use of OneHot encoding to convert these categorical data to numeric.\n",
        "- As label encoding will encode the labels with a value betweeen 0 and no of classes - 1. So, if the number of labels is large, it imposes some sort of order in them.\n",
        "\n",
        "**Ex**, if we make use of label encoding in this column we will have something like this,\n",
        " - self_employed - 0\n",
        " - salaried - 1\n",
        " - Student - 2\n",
        " - retired - 3\n",
        " - company - 4\n",
        " And the model might interpret this as 4>3>2>1>0 which should not be the case, hence we use oneHot Encoding.\n",
        "\n",
        "\n",
        "\n"
      ]
    },
    {
      "cell_type": "code",
      "metadata": {
        "id": "f3lAj7Zu5mOT"
      },
      "source": [
        "ct = ColumnTransformer([(\"on\",OneHotEncoder(),[2])],remainder='passthrough')  "
      ],
      "execution_count": null,
      "outputs": []
    },
    {
      "cell_type": "code",
      "metadata": {
        "id": "TTxocRkn57Ub",
        "colab": {
          "base_uri": "https://localhost:8080/"
        },
        "outputId": "431f53c9-f09a-4325-a08d-37b8d469da1e"
      },
      "source": [
        "x = ct.fit_transform(x)\n",
        "\n",
        "x"
      ],
      "execution_count": null,
      "outputs": [
        {
          "output_type": "execute_result",
          "data": {
            "text/plain": [
              "array([[0.0, 0.0, 0.0, ..., 0.2, 0.2, 0.2],\n",
              "       [0.0, 0.0, 0.0, ..., 0.56, 5486.27, 100.56],\n",
              "       [0.0, 0.0, 1.0, ..., 0.61, 6046.73, 259.23],\n",
              "       ...,\n",
              "       [0.0, 0.0, 1.0, ..., 4666.84, 168.23, 71.8],\n",
              "       [0.0, 0.0, 0.0, ..., 0.2, 0.2, 0.2],\n",
              "       [0.0, 0.0, 0.0, ..., 0.11, 714.4, 1094.09]], dtype=object)"
            ]
          },
          "metadata": {
            "tags": []
          },
          "execution_count": 31
        }
      ]
    },
    {
      "cell_type": "code",
      "metadata": {
        "id": "-Tdn2OC56AxZ"
      },
      "source": [
        "x = x[:,1:]"
      ],
      "execution_count": null,
      "outputs": []
    },
    {
      "cell_type": "code",
      "metadata": {
        "id": "LSnjzR_y6GHW",
        "colab": {
          "base_uri": "https://localhost:8080/"
        },
        "outputId": "40b864bd-e126-4d0f-c784-7ba9c70294ea"
      },
      "source": [
        "print(x.shape)\n",
        "print(y.shape)"
      ],
      "execution_count": null,
      "outputs": [
        {
          "output_type": "stream",
          "text": [
            "(28382, 10)\n",
            "(28382, 1)\n"
          ],
          "name": "stdout"
        }
      ]
    },
    {
      "cell_type": "markdown",
      "metadata": {
        "id": "fhpZip09FSLa"
      },
      "source": [
        "Standard Scaling the dependent and independent variables"
      ]
    },
    {
      "cell_type": "code",
      "metadata": {
        "id": "j2E54w-m6eiw"
      },
      "source": [
        "sc = StandardScaler()"
      ],
      "execution_count": null,
      "outputs": []
    },
    {
      "cell_type": "code",
      "metadata": {
        "id": "G2SccgeA6hD2",
        "colab": {
          "base_uri": "https://localhost:8080/"
        },
        "outputId": "1d83bb5c-b538-4b06-bd25-17420411b261"
      },
      "source": [
        "x = sc.fit_transform(x)\n",
        "x"
      ],
      "execution_count": null,
      "outputs": [
        {
          "output_type": "execute_result",
          "data": {
            "text/plain": [
              "array([[-0.27710798, -0.55610576,  0.78527401, ..., -0.04454454,\n",
              "        -0.07037759, -0.13742664],\n",
              "       [-0.27710798, -0.55610576,  0.78527401, ..., -0.04453987,\n",
              "         0.03515519, -0.13329672],\n",
              "       [-0.27710798,  1.79821909, -1.27344084, ..., -0.04453922,\n",
              "         0.04593648, -0.12676727],\n",
              "       ...,\n",
              "       [-0.27710798,  1.79821909, -1.27344084, ...,  0.01600605,\n",
              "        -0.06714528, -0.13448022],\n",
              "       [-0.27710798, -0.55610576,  0.78527401, ..., -0.04454454,\n",
              "        -0.07037759, -0.13742664],\n",
              "       [-0.27710798, -0.55610576, -1.27344084, ..., -0.04454571,\n",
              "        -0.05663888, -0.09241186]])"
            ]
          },
          "metadata": {
            "tags": []
          },
          "execution_count": 35
        }
      ]
    },
    {
      "cell_type": "markdown",
      "metadata": {
        "id": "45BkKsb5Fc1X"
      },
      "source": [
        "## Dividing into train and test sets"
      ]
    },
    {
      "cell_type": "code",
      "metadata": {
        "id": "FR0FxQYx6rWH"
      },
      "source": [
        "x_train,x_test,y_train,y_test = train_test_split(x,y,test_size=0.2,random_state=0)"
      ],
      "execution_count": null,
      "outputs": []
    },
    {
      "cell_type": "code",
      "metadata": {
        "id": "T5v3zt_v67_a",
        "colab": {
          "base_uri": "https://localhost:8080/"
        },
        "outputId": "d0035b01-599d-4787-fbd2-d872d1c0b921"
      },
      "source": [
        "print(x_train.shape)\n",
        "print(x_test.shape)\n",
        "print(y_train.shape)\n",
        "print(y_test.shape)"
      ],
      "execution_count": null,
      "outputs": [
        {
          "output_type": "stream",
          "text": [
            "(22705, 10)\n",
            "(5677, 10)\n",
            "(22705, 1)\n",
            "(5677, 1)\n"
          ],
          "name": "stdout"
        }
      ]
    },
    {
      "cell_type": "markdown",
      "metadata": {
        "id": "vj6LHGKSFl6L"
      },
      "source": [
        "## Applying relevant models for determining the potential accuracy"
      ]
    },
    {
      "cell_type": "code",
      "metadata": {
        "id": "vLHXz_tM79mf"
      },
      "source": [
        "lr = LogisticRegression()"
      ],
      "execution_count": null,
      "outputs": []
    },
    {
      "cell_type": "code",
      "metadata": {
        "id": "yWrPFZDY7_iG",
        "colab": {
          "base_uri": "https://localhost:8080/"
        },
        "outputId": "3e87954a-a00c-4fa8-98fd-e27ba784005f"
      },
      "source": [
        "lr.fit(x_train,y_train)"
      ],
      "execution_count": null,
      "outputs": [
        {
          "output_type": "stream",
          "text": [
            "/usr/local/lib/python3.7/dist-packages/sklearn/utils/validation.py:760: DataConversionWarning: A column-vector y was passed when a 1d array was expected. Please change the shape of y to (n_samples, ), for example using ravel().\n",
            "  y = column_or_1d(y, warn=True)\n"
          ],
          "name": "stderr"
        },
        {
          "output_type": "execute_result",
          "data": {
            "text/plain": [
              "LogisticRegression(C=1.0, class_weight=None, dual=False, fit_intercept=True,\n",
              "                   intercept_scaling=1, l1_ratio=None, max_iter=100,\n",
              "                   multi_class='auto', n_jobs=None, penalty='l2',\n",
              "                   random_state=None, solver='lbfgs', tol=0.0001, verbose=0,\n",
              "                   warm_start=False)"
            ]
          },
          "metadata": {
            "tags": []
          },
          "execution_count": 39
        }
      ]
    },
    {
      "cell_type": "code",
      "metadata": {
        "id": "0NP-JH5i8HT2",
        "colab": {
          "base_uri": "https://localhost:8080/"
        },
        "outputId": "970c6b6f-7198-4af5-e4a2-e1d911c57ef4"
      },
      "source": [
        "print(lr.predict(x_test))"
      ],
      "execution_count": null,
      "outputs": [
        {
          "output_type": "stream",
          "text": [
            "[0 0 0 ... 0 0 0]\n"
          ],
          "name": "stdout"
        }
      ]
    },
    {
      "cell_type": "code",
      "metadata": {
        "id": "RGSQbs2s9keK"
      },
      "source": [
        "y_pred = lr.predict(x_test)"
      ],
      "execution_count": null,
      "outputs": []
    },
    {
      "cell_type": "code",
      "metadata": {
        "id": "xmX8YKQY9Vw7",
        "colab": {
          "base_uri": "https://localhost:8080/"
        },
        "outputId": "adf5b078-d164-4892-f81d-16b2dfabc66f"
      },
      "source": [
        "print(y_test)"
      ],
      "execution_count": null,
      "outputs": [
        {
          "output_type": "stream",
          "text": [
            "[[0]\n",
            " [1]\n",
            " [0]\n",
            " ...\n",
            " [0]\n",
            " [0]\n",
            " [0]]\n"
          ],
          "name": "stdout"
        }
      ]
    },
    {
      "cell_type": "code",
      "metadata": {
        "id": "W7GB06Mg9fTM",
        "colab": {
          "base_uri": "https://localhost:8080/"
        },
        "outputId": "35cdecf5-8235-4ade-e882-774b70515d79"
      },
      "source": [
        "print(accuracy_score(y_pred,y_test))"
      ],
      "execution_count": null,
      "outputs": [
        {
          "output_type": "stream",
          "text": [
            "0.8139862603487757\n"
          ],
          "name": "stdout"
        }
      ]
    },
    {
      "cell_type": "code",
      "metadata": {
        "id": "xhgdIXWyCDaK",
        "colab": {
          "base_uri": "https://localhost:8080/"
        },
        "outputId": "64e02acd-8f89-4ff0-e897-1c9fee40d006"
      },
      "source": [
        "skfold = StratifiedKFold(n_splits=3,random_state=0)\n",
        "model_c = LogisticRegression()\n",
        "results_skfold = model_selection.cross_val_score(model_c, x, y.ravel(), cv=skfold)\n",
        "print(\"Accuracy: %.2f%%\" % (results_skfold.mean()*100.0))"
      ],
      "execution_count": null,
      "outputs": [
        {
          "output_type": "stream",
          "text": [
            "/usr/local/lib/python3.7/dist-packages/sklearn/model_selection/_split.py:296: FutureWarning: Setting a random_state has no effect since shuffle is False. This will raise an error in 0.24. You should leave random_state to its default (None), or set shuffle=True.\n",
            "  FutureWarning\n"
          ],
          "name": "stderr"
        },
        {
          "output_type": "stream",
          "text": [
            "Accuracy: 81.49%\n"
          ],
          "name": "stdout"
        }
      ]
    },
    {
      "cell_type": "markdown",
      "metadata": {
        "id": "qzmqW9IlFv1j"
      },
      "source": [
        "## We can conclude that the dataset performs well with Logistic regression model\n"
      ]
    },
    {
      "cell_type": "code",
      "metadata": {
        "id": "P5NLmN55EVyx",
        "colab": {
          "base_uri": "https://localhost:8080/"
        },
        "outputId": "142c415c-d170-4145-9344-0c77cd1d2db3"
      },
      "source": [
        "skfold = StratifiedKFold(n_splits=3,random_state=0)\n",
        "model_c = RandomForestClassifier(criterion='entropy',n_estimators=10,random_state=0,n_jobs=-1)\n",
        "results_skfold = model_selection.cross_val_score(model_c, x, y.ravel(), cv=skfold)\n",
        "print(\"Accuracy: %.2f%%\" % (results_skfold.mean()*100.0))"
      ],
      "execution_count": null,
      "outputs": [
        {
          "output_type": "stream",
          "text": [
            "/usr/local/lib/python3.7/dist-packages/sklearn/model_selection/_split.py:296: FutureWarning: Setting a random_state has no effect since shuffle is False. This will raise an error in 0.24. You should leave random_state to its default (None), or set shuffle=True.\n",
            "  FutureWarning\n"
          ],
          "name": "stderr"
        },
        {
          "output_type": "stream",
          "text": [
            "Accuracy: 80.75%\n"
          ],
          "name": "stdout"
        }
      ]
    }
  ]
}